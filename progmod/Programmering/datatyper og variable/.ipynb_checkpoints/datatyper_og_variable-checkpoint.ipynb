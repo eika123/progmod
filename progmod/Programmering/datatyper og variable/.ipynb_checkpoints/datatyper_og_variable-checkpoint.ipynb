{
 "cells": [
  {
   "cell_type": "markdown",
   "metadata": {},
   "source": [
    "# Datatyper og variable\n",
    "\n",
    "## Læringsmål\n",
    "\n",
    "* Kjenne til datatypene `String`, `int` og `float`.\n",
    "* Kunne bruke variable til å gjøre kode og beregninger mer fleksible og lesbare"
   ]
  },
  {
   "cell_type": "markdown",
   "metadata": {},
   "source": [
    "### Et første enkelt eksempel"
   ]
  },
  {
   "cell_type": "code",
   "execution_count": 7,
   "metadata": {},
   "outputs": [
    {
     "data": {
      "text/plain": [
       "13"
      ]
     },
     "execution_count": 7,
     "metadata": {},
     "output_type": "execute_result"
    }
   ],
   "source": [
    "a = 5\n",
    "b = 8\n",
    "\n",
    "a + b"
   ]
  },
  {
   "cell_type": "code",
   "execution_count": 2,
   "metadata": {},
   "outputs": [
    {
     "data": {
      "text/plain": [
       "125"
      ]
     },
     "execution_count": 2,
     "metadata": {},
     "output_type": "execute_result"
    }
   ],
   "source": [
    "a + 15*b"
   ]
  },
  {
   "cell_type": "markdown",
   "metadata": {},
   "source": [
    "Du kan undersøke selv at utregningene er korrekte med hoderegning eller en kalkulator.\n",
    "For å multiplisere bruker vi en asterisk (`*`), og for å dele bruker vi forward slash (`/`)."
   ]
  },
  {
   "cell_type": "code",
   "execution_count": 10,
   "metadata": {},
   "outputs": [
    {
     "name": "stdout",
     "output_type": "stream",
     "text": [
      "40\n",
      "2.0\n",
      "1.6\n"
     ]
    }
   ],
   "source": [
    "s = 8*5\n",
    "print(s)\n",
    "\n",
    "print(s/20)\n",
    "print(s/25)"
   ]
  },
  {
   "cell_type": "markdown",
   "metadata": {},
   "source": [
    "Imidlertid kan Python også gjøre følgende:"
   ]
  },
  {
   "cell_type": "code",
   "execution_count": 8,
   "metadata": {
    "collapsed": true
   },
   "outputs": [],
   "source": [
    "a = \"abc\"\n",
    "b = \"def\""
   ]
  },
  {
   "cell_type": "code",
   "execution_count": 9,
   "metadata": {},
   "outputs": [
    {
     "data": {
      "text/plain": [
       "'abcdef'"
      ]
     },
     "execution_count": 9,
     "metadata": {},
     "output_type": "execute_result"
    }
   ],
   "source": [
    "a + b"
   ]
  },
  {
   "cell_type": "code",
   "execution_count": 10,
   "metadata": {},
   "outputs": [
    {
     "data": {
      "text/plain": [
       "'defdefdef'"
      ]
     },
     "execution_count": 10,
     "metadata": {},
     "output_type": "execute_result"
    }
   ],
   "source": [
    "3*b"
   ]
  },
  {
   "cell_type": "markdown",
   "metadata": {},
   "source": [
    "Vi ser altså at python kan \"legge sammen\" tekst, og \"multiplisere\" tekst med tall.\n",
    "Hvordan python velger å utføre operasjonene addisjon og multiplikasjon avhenger\n",
    "altså av hva slags typer data vi arbeider med. Vi skal i dette avsnittet innføre datatypene\n",
    "*string*, *int* og *float*.\n",
    "Betegnelsene int, float og char står for henholdsvis, *integer* (heltall), *floating point number* (flyttall), og *character* (bokstav). En string (norsk: streng) er en rekke av bokstaver, og en float er et desimaltall."
   ]
  },
  {
   "cell_type": "markdown",
   "metadata": {},
   "source": [
    "## Datatypen `String`\n",
    "Du får en rask oversikt over strenger i denne [videoen](https://www.youtube.com/watch?v=k9TUPpGqYTo&index=2&list=PL-osiE80TeTt2d9bfVyTiXJA-UTHn6WwU).\n",
    "### Et klassisk eksempel: Hello World\n",
    "I sin enkleste form kan programmet skrives slik.\n",
    "Vi lager strengen `\"Hello, World\"`, som vi mater inn til funksjonen `print`. Funksjonen `print` er en innebygget funksjon i python, som skriver ut strenger til brukeren. Denne funksjonen skal du stifte mye bekjentskap med senere, og bruke den til å skrive ut tabeller, tekst, tall, feilsøke osv."
   ]
  },
  {
   "cell_type": "code",
   "execution_count": 12,
   "metadata": {},
   "outputs": [
    {
     "name": "stdout",
     "output_type": "stream",
     "text": [
      "Hello, World!\n"
     ]
    }
   ],
   "source": [
    "print(\"Hello, World!\")"
   ]
  },
  {
   "cell_type": "markdown",
   "metadata": {},
   "source": [
    "Strengen `\"Hello, World!\"` består av 13 tegn. Ett av tegnene er kommaet, mens det andre er mellomrommet, et såkalt \"whitespace\". "
   ]
  },
  {
   "cell_type": "markdown",
   "metadata": {},
   "source": [
    "Vi skal nå se på hvordan vi kan bygge setninger med Python på en dynamisk måte. Til dette introduserer vi begrepet *variabel*"
   ]
  },
  {
   "cell_type": "markdown",
   "metadata": {},
   "source": [
    "## Variabler\n",
    "\n",
    "### Eksempel"
   ]
  },
  {
   "cell_type": "code",
   "execution_count": 20,
   "metadata": {},
   "outputs": [
    {
     "name": "stdout",
     "output_type": "stream",
     "text": [
      "Hello, World!\n"
     ]
    }
   ],
   "source": [
    "# I dette eksempelet bruker vi variabler a og b\n",
    "# for å skrive en hilsen til verden.\n",
    "a = \"Hello, \"\n",
    "b = \"World!\"\n",
    "print(a + b)"
   ]
  },
  {
   "cell_type": "markdown",
   "metadata": {},
   "source": [
    "#### Forklaring av kode:\n",
    "De to øverste linjene er kommentarer. De forteller kort hva programmet gjør, og blir ikke kjørt som kode\n",
    "av python. Du bør venne deg til å skrive gode kommentarer slik at du senere lett kan forstå hva koden din gjør.\n",
    "Å skrive gode kommentarer er også et læreplanmål i faget og en del av vurderingen.\n",
    "\n",
    "I denne koden opprettet vi variabelen `a`, og tilordnet den strengen `\"Hello, \"`.\n",
    "Når du programmerer Python bør du tenke på variabler som merkelapper til verdier. Disse verdiene kan være strenger (tekst), tall eller andre datatyper. I dette tilfellet har strengen `\"Hello, \"` fått navnet `a`. Datatypene kan etterhvert bli meget kompliserte, og da er det nyttig at de har et enkelt navn vi kan bruke! Tenk hvis vi mennesker ikke hadde navn på hverandre, men måtte brukt beskrivelser av personen vi skulle få tak i. Kaoset som ville oppstått kunne lignet på hva du får dersom man ikke bruker variable.\n",
    "\n",
    "\n",
    "##### Hva skjer inni datamaskinen?*\n",
    "Et sted i minnet på datamaskinen, ligger de sju tegnene `'H', 'e', 'l', 'l' 'o', ','` og mellomrommet `' '` ordnet\n",
    "på rekke. Fysisk er de representert som nuller og enere, men Python kan lese dem som bokstaver. Dette stedet i\n",
    "minnet har fått navnet `a`. \n",
    "\n",
    "\n",
    "#### Forandre variabelens verdi:\n",
    "Vi kan endre på variabelens innhold. Dersom vi i stedet vil skrive \"Hei, Joe!\", endrer vi innholdet i\n",
    "variabelen `b` til `\"Joe\"`"
   ]
  },
  {
   "cell_type": "code",
   "execution_count": 1,
   "metadata": {},
   "outputs": [
    {
     "name": "stdout",
     "output_type": "stream",
     "text": [
      "Hello, Joe!\n"
     ]
    }
   ],
   "source": [
    "a = \"Hello, \"\n",
    "b = \"Joe!\"\n",
    "print(a + b)"
   ]
  },
  {
   "cell_type": "markdown",
   "metadata": {},
   "source": [
    "#### Oppsummering\n",
    "Vi kan altså lagre data i *variable*, og gjøre operasjoner på disse dataene ved å referere til variablene.\n",
    "Variablene kan betraktes som adresser til fysiske steder i minnet på datamaskiinen\n",
    "\n",
    "Dette ser kanskje banalt ut akkurat nå - men senere skal du lære å for eksempel la brukeren bestemme verdien av variabelen `b`. Da kan du lage et dataprogram som kan hilse på brukeren.\n",
    "\n",
    "\n",
    "#### Oppgave 1:\n",
    "1. Modifiser koden i `In[21]` til å skrive ut strengen `\"Hei, Lars!\"`\n",
    "2. Modifiser koden i `In[21]` til å skrive ut strengen `\"Lars spiser pizza\"`. Forsøk å gjøre det enkelt å endre hvilken type mat Lars spiser"
   ]
  },
  {
   "cell_type": "markdown",
   "metadata": {},
   "source": [
    "## Datatypene `int` og `float`\n",
    "Du får en oversikt over datatypene `int` og `float` i denne [videoen](https://www.youtube.com/watch?v=khKv-8q7YmY&index=3&list=PL-osiE80TeTt2d9bfVyTiXJA-UTHn6WwU). \n",
    "### Algebra med variable: flyttall"
   ]
  },
  {
   "cell_type": "markdown",
   "metadata": {},
   "source": [
    "Det ser jo nå riktig fristende ut å gjøre litt algebra. Dere har kanskje lært i fysikk\n",
    "at en ball med fart $v_0$ og konstant akselerasjon $a$, etter $t$ sekunder har beveget seg\n",
    "en lengde\n",
    "$$s = v_0t + \\frac{1}{2}at^2$$\n",
    "Vi kan programmere denne formelen, slik at datamaskinen gjør utregningen for oss når vi endrer\n",
    "på verdiene $v_0$, $t$ og $a$."
   ]
  },
  {
   "cell_type": "code",
   "execution_count": 2,
   "metadata": {},
   "outputs": [
    {
     "name": "stdout",
     "output_type": "stream",
     "text": [
      "10.0\n"
     ]
    }
   ],
   "source": [
    "# vi regner ut tilbakelagt avstad s i løpet av t antall sekunder, til et objekt under konstant akselereasjon a, med\n",
    "# utgangshastighet v0.\n",
    "\n",
    "# data:\n",
    "a = -10\n",
    "v0 = 15\n",
    "t = 2\n",
    "\n",
    "# utregning:\n",
    "s = v0*t + 0.5*a*t**2\n",
    "\n",
    "print(s)"
   ]
  },
  {
   "cell_type": "markdown",
   "metadata": {},
   "source": [
    "Merk at alle dataene er angitt som heltall (int). Når vi blander flyttall inn i beregningen, blir svaret et flyttall.\n",
    "Videre bruker vi stjerne (\\*) for multiplikasjon, og dobbeltstjerne (\\*\\*) for potenser.\n",
    "\n",
    "Du synes kanskje at det hadde vært enklere å regne ut svaret direkte, ved å skrive følgende kode:"
   ]
  },
  {
   "cell_type": "code",
   "execution_count": 4,
   "metadata": {},
   "outputs": [
    {
     "name": "stdout",
     "output_type": "stream",
     "text": [
      "10.0\n"
     ]
    }
   ],
   "source": [
    "print(15*2 + 0.5*(-10)*2**2)"
   ]
  },
  {
   "cell_type": "markdown",
   "metadata": {},
   "source": [
    "Dersom du senere skulle endret for eksempel tiden $t$ til 3 sekunder, måtte du endret koden to steder i stedenfor ett sted. I tillegg måtte du funnet ut hvilke tall som svarte til hvilken størrelse, og det er ikke så lett!"
   ]
  },
  {
   "cell_type": "markdown",
   "metadata": {},
   "source": [
    "#### Oppgave 2:\n",
    "Du skal endre verdien av variablene `a`, `v0` og `t` til å finne avstanden $s$ etter fire sekunder når\n",
    "$a=5\\text{ m/s}^2$, $v=20\\text{ m/s}$. "
   ]
  },
  {
   "cell_type": "code",
   "execution_count": null,
   "metadata": {
    "collapsed": true
   },
   "outputs": [],
   "source": []
  },
  {
   "cell_type": "markdown",
   "metadata": {},
   "source": [
    "## Navn på variabler.\n",
    "Navnene vi velger på variabler skal være beskrivende.\n",
    "Dersom vi skal gjøre matematiske beregninger skal vi alltid forsøke\n",
    "å vlege variabelnavn slik at koden ligner mest mulig på matematikken. Det gjør\n",
    "det enklere å lese koden.\n",
    "\n",
    "Som et eksempel på hvor tungvint det kan bli å lese kode med dårlige variabelnavn\n",
    "kan du se på følgende kode for å regne ut størrelsen $s$ i formelen\n",
    "$$ s = v_0t + \\frac{1}{2}at^2.$$"
   ]
  },
  {
   "cell_type": "code",
   "execution_count": 11,
   "metadata": {},
   "outputs": [
    {
     "name": "stdout",
     "output_type": "stream",
     "text": [
      "10.0\n"
     ]
    }
   ],
   "source": [
    "# data med dårlige variabelnavn\n",
    "vaffel = 15\n",
    "baffel = -10\n",
    "karaffel = 2\n",
    "\n",
    "# det blir spetakkel om dere velger slike variabelnavn\n",
    "spetakkel = vaffel*karaffel + 0.5*baffel*karaffel**2\n",
    "print(spetakkel)"
   ]
  },
  {
   "cell_type": "markdown",
   "metadata": {},
   "source": [
    "## Reserverte ord i python \n",
    "Noen ord kan ikke brukes som variabelnavn i et pythonprogram, fordi de brukes til navn på bla. kommandoer og innebygde funksjoner. Disse ordene er:\n",
    "\n",
    "`and, as, assert, break, class, continue, def, del, elif, else, except, False, finally, for, from, global, if, import, in, is, lambda, None, nonlocal, not, or, pass, raise, return, True, Try, with, while` og `yield`.\n",
    "\n",
    "Dette kan høres ut som mange ord å huske, men som du ser har vi allerede brukt blant annet ordet `print` til å skrive\n",
    "ut strenger til brukeren. Det ville vært tåpelig om vi kunne bruke `print` som variabelnavn på bekostning av å kunne skrive meldinger ut til brukeren! Du vil etter hvert huske de fleste av disse ordene ettersom de tas i bruk.\n",
    "\n",
    "Dersom vi for eksempel forsøker å bruke ordet `continue` som variabel får vi en feilmelding:\n",
    "(ta bort `#`-tegnet for å gjøre kommentaren om til kode)."
   ]
  },
  {
   "cell_type": "code",
   "execution_count": 6,
   "metadata": {},
   "outputs": [],
   "source": [
    "# continue = 5"
   ]
  },
  {
   "cell_type": "markdown",
   "metadata": {},
   "source": [
    "I stedet kan vi legge til en nedre bindestrek på slutten av ordet:"
   ]
  },
  {
   "cell_type": "code",
   "execution_count": 7,
   "metadata": {},
   "outputs": [],
   "source": [
    "continue_ = 5"
   ]
  },
  {
   "cell_type": "markdown",
   "metadata": {},
   "source": [
    "## Oppgaver"
   ]
  },
  {
   "cell_type": "markdown",
   "metadata": {},
   "source": [
    "#### Oppgave 3\n",
    "I naturfag har du kanskje lært om Ohms lov.\n",
    "Dersom du har en likestrøm $I$, med spenning $U$ over en resistans $R$,\n",
    "er sammenhengen mellom strømmen, spenningen og resistansen gitt ved\n",
    "$$ U = RI. $$\n",
    "\n",
    "Lag et program som regner ut spenningen $U$ når $R$ og $I$ er kjent.\n",
    "   \n",
    "Du kan sette $R = 5\\;\\Omega$ og $I = 0.5\\text{ A}$ til å begynne med."
   ]
  },
  {
   "cell_type": "code",
   "execution_count": null,
   "metadata": {
    "collapsed": true
   },
   "outputs": [],
   "source": []
  },
  {
   "cell_type": "markdown",
   "metadata": {},
   "source": [
    "#### Oppgave 4\n",
    "Vi kan snu formelen fra oppgave 3 til $$\\frac{U}{I} = R$$\n",
    "I en krets gjør du følgende målinger: $U = 12\\text{ V}$ og $I = 0.05\\text{ A}$.\n",
    "Skriv et program som regner ut resistansen $R$ og skriver det ut til brukeren."
   ]
  },
  {
   "cell_type": "markdown",
   "metadata": {},
   "source": [
    "#### Oppgave 5\n",
    "Fra matematikk i grunnskolen husker du kanskje denne formelen fra vei-fart-tid.\n",
    "\n",
    "$$ s = vt $$\n",
    "\n",
    "I programmering er det et viktig prinsipp at man ikke skriver to programmer for å gjøre\n",
    "to nesten helt like ting. Koden skal være generell nok til å takle alle problemer\n",
    "som har samme struktur. Noen ganger kan latskap være en dyd!\n",
    "\n",
    "Bruk programmet du laget i oppgave 3 til å regne ut strekningen $s$ når $v=12\\text{m/s}$ og $t=1,42\\text{s}$."
   ]
  },
  {
   "cell_type": "markdown",
   "metadata": {},
   "source": [
    "#### Oppgave 6:\n",
    "I matematikk har du kanskje lært at dersom du setter inn 40 000 kroner i banken hvert år i fire år, med en rente\n",
    "på 7%, vil du stå igjen med følgende beløp på konto når fire år er gått:\n",
    "\n",
    "$$ 40000\\cdot1,07 + 40000\\cdot1,07^2 + 40000\\cdot1,07^3 + 40000\\cdot1,07^4.$$\n",
    "\n",
    "Skriv et program som regner ut summen over. Programmet skal:\n",
    "* Lagre resultatet i en variabel `s`.\n",
    "* bruke funksjonen `print` til å skrive ut resultatet\n",
    "\n",
    "For de som har programmert før eller andre spesielt interesserte - se oppgave ???? i notebook ?????"
   ]
  },
  {
   "cell_type": "code",
   "execution_count": null,
   "metadata": {
    "collapsed": true
   },
   "outputs": [],
   "source": []
  },
  {
   "cell_type": "markdown",
   "metadata": {},
   "source": [
    "#### Oppgave 7:\n",
    "Bruk variabler i Python til å modifisere programmet ditt fra oppgave 6 slik at du kan forandre det årlige sparebeløpet og vekstfaktoren 1,07 uten å endre programmeringen av selve utregningen"
   ]
  },
  {
   "cell_type": "code",
   "execution_count": null,
   "metadata": {
    "collapsed": true
   },
   "outputs": [],
   "source": []
  },
  {
   "cell_type": "markdown",
   "metadata": {},
   "source": [
    "## Kilder og videre referanser:\n",
    "[Python standard library - 4. Built-in Types](https://docs.python.org/3.5/library/stdtypes.html#)\n",
    "\n",
    "[The Python Tutorial - 15. Floating Point Arithmetic: Issues and Limitations](https://docs.python.org/3.5/tutorial/floatingpoint.html)\n",
    "\n",
    "[Bush, Bruce M. - The Perils of Floating Point](http://www.lahey.com/float.htm)\n",
    "\n",
    "Langtangen, H.P - A Primer on Scientific Programming with Python, 5. utg, Springer, Berlin."
   ]
  },
  {
   "cell_type": "code",
   "execution_count": null,
   "metadata": {
    "collapsed": true
   },
   "outputs": [],
   "source": []
  }
 ],
 "metadata": {
  "anaconda-cloud": {},
  "kernelspec": {
   "display_name": "Python 3",
   "language": "python",
   "name": "python3"
  },
  "language_info": {
   "codemirror_mode": {
    "name": "ipython",
    "version": 3
   },
   "file_extension": ".py",
   "mimetype": "text/x-python",
   "name": "python",
   "nbconvert_exporter": "python",
   "pygments_lexer": "ipython3",
   "version": "3.6.5"
  }
 },
 "nbformat": 4,
 "nbformat_minor": 2
}

{
 "cells": [
  {
   "cell_type": "markdown",
   "metadata": {},
   "source": [
    "# Datatyper og variable\n",
    "\n",
    "## Læringsmål\n",
    "\n",
    "* Kjenne til datatypene `char`, `String`, `int` og `float`.\n",
    "* Kunne bruke variable til å gjøre kode og beregninger mer fleksibel\n",
    "* Kunne gi en skjematisk forklaring av hvordan variable virker i Python\n"
   ]
  },
  {
   "cell_type": "markdown",
   "metadata": {},
   "source": [
    "### Et første enkelt eksempel"
   ]
  },
  {
   "cell_type": "code",
   "execution_count": 7,
   "metadata": {},
   "outputs": [
    {
     "data": {
      "text/plain": [
       "13"
      ]
     },
     "execution_count": 7,
     "metadata": {},
     "output_type": "execute_result"
    }
   ],
   "source": [
    "a = 5\n",
    "b = 8\n",
    "\n",
    "a + b"
   ]
  },
  {
   "cell_type": "code",
   "execution_count": 2,
   "metadata": {},
   "outputs": [
    {
     "data": {
      "text/plain": [
       "125"
      ]
     },
     "execution_count": 2,
     "metadata": {},
     "output_type": "execute_result"
    }
   ],
   "source": [
    "a + 15*b"
   ]
  },
  {
   "cell_type": "markdown",
   "metadata": {},
   "source": [
    "Du kan undersøke selv at utregningene er korrekte med hoderegning eller en kalkulator.\n",
    "\n",
    "Imidlertid kan python også gjøre følgende:"
   ]
  },
  {
   "cell_type": "code",
   "execution_count": 4,
   "metadata": {
    "collapsed": true
   },
   "outputs": [],
   "source": [
    "a = \"abc\"\n",
    "b = \"def\""
   ]
  },
  {
   "cell_type": "code",
   "execution_count": 7,
   "metadata": {},
   "outputs": [
    {
     "data": {
      "text/plain": [
       "'abcdef'"
      ]
     },
     "execution_count": 7,
     "metadata": {},
     "output_type": "execute_result"
    }
   ],
   "source": [
    "a + b"
   ]
  },
  {
   "cell_type": "code",
   "execution_count": 10,
   "metadata": {},
   "outputs": [
    {
     "data": {
      "text/plain": [
       "'defdefdef'"
      ]
     },
     "execution_count": 10,
     "metadata": {},
     "output_type": "execute_result"
    }
   ],
   "source": [
    "3*b"
   ]
  },
  {
   "cell_type": "markdown",
   "metadata": {},
   "source": [
    "Vi ser altså at python kan \"legge sammen\" tekst, og \"multiplisere\" tekst med tall.\n",
    "Hvordan python velger å utføre operasjonene addisjon og multiplikasjon avhenger\n",
    "altså av hva slags typer data vi arbeider med. Vi skal i dette avsnittet innføre datatypene\n",
    "*string*, *int*, *float*, *char* og *boolean*.\n",
    "Betegnelsene int, float og char står for henholdsvis, *integer* (heltall), *floating point number* (flyttall), og *character* (bokstav). En string (norsk: streng) er en rekke av bokstaver, og en float er et desimaltall."
   ]
  },
  {
   "cell_type": "markdown",
   "metadata": {},
   "source": [
    "## Datatypen `String`\n",
    "### Et klassisk eksempel: Hello World\n",
    "I sin enkleste form kan programmet skrives slik.\n",
    "Vi lager strengen `\"Hello, World\"`, som vi mater inn til funksjonen `print`. Funksjonen `print` er en innebygget funksjon i python, som skriver ut strenger til brukeren. Denne funksjonen skal du stifte mye bekjentskap med senere, og bruke den til å skrive ut tabeller, tekst, tall, feilsøke osv."
   ]
  },
  {
   "cell_type": "code",
   "execution_count": 12,
   "metadata": {},
   "outputs": [
    {
     "name": "stdout",
     "output_type": "stream",
     "text": [
      "Hello, World!\n"
     ]
    }
   ],
   "source": [
    "print(\"Hello, World!\")"
   ]
  },
  {
   "cell_type": "markdown",
   "metadata": {},
   "source": [
    "Strengen `\"Hello, World!\"` består av 13 tegn. Ett av tegnene er kommaet, mens det andre er mellomrommet, et såkalt \"whitespace\". "
   ]
  },
  {
   "cell_type": "markdown",
   "metadata": {},
   "source": [
    "Vi skal nå se på hvordan vi kan bygge setninger med Python på en dynamisk måte. Til dette introduserer vi begrepet *variabel*"
   ]
  },
  {
   "cell_type": "markdown",
   "metadata": {},
   "source": [
    "## Variabler\n",
    "\n",
    "### Eksempel"
   ]
  },
  {
   "cell_type": "code",
   "execution_count": 20,
   "metadata": {},
   "outputs": [
    {
     "name": "stdout",
     "output_type": "stream",
     "text": [
      "Hello, World!\n"
     ]
    }
   ],
   "source": [
    "# I dette eksempelet bruker vi variabler a og b\n",
    "# for å skrive en hilsen til verden.\n",
    "a = \"Hello, \"\n",
    "b = \"World!\"\n",
    "print(a + b)"
   ]
  },
  {
   "cell_type": "markdown",
   "metadata": {},
   "source": [
    "#### Forklaring av kode:\n",
    "De to øverste linjene er kommentarer. De forteller kort hva programmet gjør, og blir ikke kjørt som kode\n",
    "av python. Du bør venne deg til å skrive gode kommentarer slik at du senere lett kan forstå hva koden din gjør.\n",
    "Å skrive gode kommentarer er også et læreplanmål i faget og en del av vurderingen.\n",
    "\n",
    "I denne koden opprettet vi variabelen `a`, og tilordnet den strengen `\"Hello, \"`.\n",
    "Det betyr at et sted i minnet på datamaskinen, ligger de sju tegnene `'H', 'e', 'l', 'l' 'o', ','` og mellomrommet `' '` ordnet\n",
    "på rekke. Tilsvarende opprettet vi variabelen `b`, som vi tilordnet verdien `\"World!\"`.\n",
    "\n",
    "Variabelen `b` viser til et sted i minnet på datamaskinen, og kan betraktes som en adresse. Verdien til variabelen er det fysiske innholdet i adressen. Dette innholdet tolker Python som strengen `\"World!\"`.\n",
    "Dette stedet i minnet har også andre, mer uleselige navn enn `b`. Til syvende og sist består adressen av en rekke nuller og enere. Dette vil være tungvint å bruke for mennesker, derfor er det mulig å gi adressen et enkelt navn som `b`.\n",
    "\n",
    "\n",
    "#### Forandre variabelens verdi:\n",
    "Vi kan endre på variabelens innhold. Dersom vi i stedet vil skrive \"Hei, Joe!\", endrer vi innholdet i\n",
    "variabelen `b` til `\"Joe\"`"
   ]
  },
  {
   "cell_type": "code",
   "execution_count": 21,
   "metadata": {},
   "outputs": [
    {
     "name": "stdout",
     "output_type": "stream",
     "text": [
      "Hello, Joe!\n"
     ]
    }
   ],
   "source": [
    "a = \"Hello, \"\n",
    "b = \"Joe!\"\n",
    "print(a + b)"
   ]
  },
  {
   "cell_type": "markdown",
   "metadata": {},
   "source": [
    "#### Oppsummering\n",
    "Vi kan altså lagre data i *variable*, og gjøre operasjoner på disse dataene ved å referere til variablene.\n",
    "Variablene kan betraktes som adresser til fysiske steder i minnet på datamaskiinen\n",
    "\n",
    "Dette ser kanskje banalt ut akkurat nå - men senere skal du lære å for eksempel la brukeren bestemme verdien av variabelen `b`. Da kan du lage et dataprogram som kan hilse på brukeren.\n",
    "\n",
    "\n",
    "#### Oppgave 1:\n",
    "1. Modifiser koden i `In[21]` til å skrive ut strengen `\"Hei, Lars!\"`\n",
    "2. Modifiser koden i `In[21]` til å skrive ut strengen `\"Lars spiser pizza\"`. Forsøk å gjøre det enkelt å endre hvilken type mat Lars spiser"
   ]
  },
  {
   "cell_type": "markdown",
   "metadata": {},
   "source": [
    "## Datatypene `int` og `float`\n",
    "### Algebra med variable: flyttall"
   ]
  },
  {
   "cell_type": "markdown",
   "metadata": {},
   "source": [
    "Det ser jo nå riktig fristende ut å gjøre litt algebra. Dere har kanskje lært i fysikk\n",
    "at en ball med fart $v_0$ og konstant akselerasjon $a$, etter $t$ sekunder har beveget seg\n",
    "en lengde\n",
    "$$s = v_0t + \\frac{1}{2}at^2$$\n",
    "Vi kan programmere denne formelen, slik at datamaskinen gjør utregningen for oss når vi endrer\n",
    "på verdiene $v_0$, $t$ og $a$."
   ]
  },
  {
   "cell_type": "code",
   "execution_count": 28,
   "metadata": {},
   "outputs": [
    {
     "name": "stdout",
     "output_type": "stream",
     "text": [
      "10.0\n"
     ]
    }
   ],
   "source": [
    "# vi regner ut avstanden s etter tiden t, til et objekt under konstant akselereasjon a, med\n",
    "# utgangshastighet v0.\n",
    "\n",
    "# data:\n",
    "a = -10\n",
    "v0 = 15\n",
    "t = 2\n",
    "\n",
    "# utregning:\n",
    "s = v0*t + 0.5*a*t**2\n",
    "\n",
    "print(s)"
   ]
  },
  {
   "cell_type": "markdown",
   "metadata": {},
   "source": [
    "Merk at alle dataene er angitt som heltall (int). Når vi blander flyttall inn i beregningen, blir svaret et flyttall.\n",
    "Videre bruker vi stjerne (\\*) for multiplikasjon, og dobbeltstjerne (\\*\\*) for potenser.\n",
    "\n",
    "#### Oppgave 2:\n",
    "Du skal endre verdien av variablene `a`, `v0` og `t` til å finne avstanden $s$ etter fire sekunder når\n",
    "$a=5\\text{ m/s}^2$, $v=20\\text{ m/s}$. "
   ]
  },
  {
   "cell_type": "code",
   "execution_count": null,
   "metadata": {
    "collapsed": true
   },
   "outputs": [],
   "source": []
  },
  {
   "cell_type": "markdown",
   "metadata": {},
   "source": [
    "#### Oppgave 3:\n",
    "I matematikk har du kanskje lært at dersom du setter inn 40 000 kroner i banken hvert år i fire år, med en rente\n",
    "på 7%, vil du stå igjen med følgende beløp på konto når fire år er gått:\n",
    "\n",
    "$$ 40000\\cdot1,07 + 40000\\cdot1,07^2 + 40000\\cdot1,07^3 + 40000\\cdot1,07^4.$$\n",
    "\n",
    "Skriv et program som regner ut summen over. Programmet skal:\n",
    "* Lagre resultatet i en variabel `s`.\n",
    "* bruke funksjonen `print` til å skrive ut resultatet"
   ]
  },
  {
   "cell_type": "code",
   "execution_count": null,
   "metadata": {
    "collapsed": true
   },
   "outputs": [],
   "source": []
  },
  {
   "cell_type": "markdown",
   "metadata": {},
   "source": [
    "#### Oppgave 4:\n",
    "Bruk variabler i Python til å modifisere programmet ditt fra oppgave 3 slik at du kan forandre det årlige sparebeløpet og vekstfaktoren 1,07 uten å endre programmeringen av selve utregningen."
   ]
  },
  {
   "cell_type": "code",
   "execution_count": null,
   "metadata": {
    "collapsed": true
   },
   "outputs": [],
   "source": []
  },
  {
   "cell_type": "markdown",
   "metadata": {},
   "source": [
    "## Kilder og videre referanser:\n",
    "[Python standard library - 4. Built-in Types](https://docs.python.org/3.5/library/stdtypes.html#)\n",
    "\n",
    "[The Python Tutorial - 15. Floating Point Arithmetic: Issues and Limitations](https://docs.python.org/3.5/tutorial/floatingpoint.html)\n",
    "\n",
    "[Bush, Bruce M. - The Perils of Floating Point](http://www.lahey.com/float.htm)"
   ]
  },
  {
   "cell_type": "code",
   "execution_count": null,
   "metadata": {
    "collapsed": true
   },
   "outputs": [],
   "source": []
  }
 ],
 "metadata": {
  "anaconda-cloud": {},
  "kernelspec": {
   "display_name": "Python 3",
   "language": "python",
   "name": "python3"
  },
  "language_info": {
   "codemirror_mode": {
    "name": "ipython",
    "version": 3
   },
   "file_extension": ".py",
   "mimetype": "text/x-python",
   "name": "python",
   "nbconvert_exporter": "python",
   "pygments_lexer": "ipython3",
   "version": "3.5.4"
  }
 },
 "nbformat": 4,
 "nbformat_minor": 1
}

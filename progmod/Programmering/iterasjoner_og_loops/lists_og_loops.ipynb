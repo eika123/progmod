{
 "cells": [
  {
   "cell_type": "markdown",
   "metadata": {},
   "source": [
    "# Lister og løkker\n",
    "\n",
    "### Mål\n",
    "* Kunne bruke lister i Python; herunder bla.: opprette tom liste, legge objekt (data) i liste, hente ut data fra kjent plassering (indeks) i liste.\n",
    "* Kunne forklare virkemåten til for-løkker\n",
    "* Kunne forklare virkemåten til while-løkker\n",
    "* Kjenne til de reserverte ordene break og pass\n",
    "* Kunne bruke løkker og variable til å summere tall\n",
    "* Kunne bruke løkker og variable til å simulere differenslikninger og tallfølger, bla. Fibonacci-følgen\n",
    "* Kunne bruke løkker og variable til å lage verditabeller, herunder bruke printf og prettyprint\n",
    "\n",
    "#### Sekundærem mål\n",
    "* Kunne bruke list comprehensions\n",
    "\n",
    "### Anbefalte forkunnskaper\n",
    "* Du kan bruke variabler i Python\n"
   ]
  },
  {
   "cell_type": "markdown",
   "metadata": {},
   "source": [
    "## Løkker\n",
    "\n",
    "Vi ønsker ofte å gjenta et sett med kommandoer eller intruksjoner mange ganger. Da passer det\n",
    "å bruke *løkker*. Python har to typer løkker; for-løkker og while-løkker.\n",
    "\n",
    "### While-løkker\n",
    "En while løkke vil gjenta et sett med kommandoer mens en logisk betingelse er sann.\n",
    "Vi kan for eksempel regne ut summen av de to, tyve, hundre eller de tusen første heltallene med\n",
    "et enkelt program:"
   ]
  },
  {
   "cell_type": "code",
   "execution_count": 5,
   "metadata": {},
   "outputs": [
    {
     "name": "stdout",
     "output_type": "stream",
     "text": [
      "5050\n"
     ]
    }
   ],
   "source": [
    "# Calculate the sum of the N first natural numbers\n",
    "\n",
    "N = 100\n",
    "s = 0    # s = sum\n",
    "k = 0    # counter\n",
    "\n",
    "while k <= N:\n",
    "    s = s + k\n",
    "    k = k + 1\n",
    "    \n",
    "print(s)\n",
    "    "
   ]
  },
  {
   "cell_type": "code",
   "execution_count": null,
   "metadata": {},
   "outputs": [],
   "source": []
  },
  {
   "cell_type": "markdown",
   "metadata": {},
   "source": [
    "### Digresjon: aritmetiske rekker\n",
    "Matematikeren Gauss fikk som ung skolegutt i oppgave fra læreren sin å regne ut summen av de hundre første heltallene. Gauss hadde ikke Python eller datamaskiner tilgjengelig, men han fant følgende måte å gjøre dette på.\n",
    "Man skriver først opp summen:\n",
    "\n",
    "$$ s = 1 + 2 + 3 + 4 + \\cdots + 97 + 98 + 99 + 100 $$\n",
    "\n",
    "Dermed kan man ordne den doble summer $2s$ på følgende måte:\n",
    "\n",
    "$$\n",
    "\\begin{array}{l l l l l l l l l l l l l l l l l l l}\n",
    "2s & = & 1 & + & 2 & + & 3 & + & 4  & + & \\cdots & + & 97 & + & 98 & + & 99 & + & 100 & + &\\\\\n",
    "   &   & 100 & + &  99 & + & 98 & + & 97 & + & \\cdots & + & 4 & + & 3 & + & 2 & + & 1 & \\\\ \\\\\n",
    "2s & = & 101 & + &  101 & + & 101 & + & 101 & + & \\cdots & + & 101 & + & 101 & + & 101 & + & 101 & \\\\\n",
    "\\end{array}\n",
    "$$\n",
    "\n",
    "\n",
    "Dermed har vi at\n",
    "$$\n",
    "\\begin{align*}\n",
    "2s = 100\\cdot101 \\\\ \\\\\n",
    "s = \\frac{100\\cdot101}{2} = 5050\n",
    "\\end{align*}\n",
    "$$"
   ]
  },
  {
   "cell_type": "markdown",
   "metadata": {},
   "source": [
    "##### Oppgave 1\n",
    "a) Modifiser programmet over til å regne ut summen av de 101 første oddetallene\n",
    "$$ s = 1 + 3 + 5 + 7 + \\cdots + 199 + 201. $$\n",
    "\n",
    "b) \n",
    "Sjekk at programmet virker for de 10 første oddetallene ved å beregne summen for hånd eller med med en kalkulator, og sammenlign svaret med svaret fra programmet.\n",
    "\n",
    "c) Bruk teknikken til Gauss for å beregne denne summen for hånd."
   ]
  },
  {
   "cell_type": "markdown",
   "metadata": {},
   "source": [
    "## Lister i Python\n",
    "Du kan tenke på lister i Python nesten på samme måte som lister på papir eller i et regneark. Listene er\n",
    "veldig fleksible, de kan inneholde omtrent hva som helst. Videre kan vi fjerne og legge til elementer i listene på en enkel og fleksibel måte. Lister i Python er ikke svært raske, derfor vil vi senere kapitler komme tilbake til andre datastrukturer som er mer effektive for store beregninger.\n",
    "\n",
    "Bruken blir tydelig når vi ser et par eksempeler!"
   ]
  },
  {
   "cell_type": "code",
   "execution_count": 20,
   "metadata": {},
   "outputs": [
    {
     "name": "stdout",
     "output_type": "stream",
     "text": [
      "[2, 4, 6, 8, 10, 12, 14, 16, 18, 20]\n",
      "2\n",
      "4\n",
      "6\n",
      "9\n"
     ]
    }
   ],
   "source": [
    "# Vi oppretter en liste med noen tall fra togangen\n",
    "togangen = [2, 4, 6, 8, 10, 12, 14, 16, 18, 20]\n",
    "print(togangen)\n",
    "\n",
    "# indeksering: begynner på 0, så 1, så 2 osv.\n",
    "print(togangen[0])\n",
    "print(togangen[1])\n",
    "print(togangen[2])\n",
    "\n",
    "i = togangen.index(20)\n",
    "print(i)"
   ]
  },
  {
   "cell_type": "markdown",
   "metadata": {},
   "source": [
    "Noen ganger ønsker vi å legge til objekter på slutten av listen. La oss legge til\n",
    "22 i listen over tall i togangen."
   ]
  },
  {
   "cell_type": "code",
   "execution_count": 23,
   "metadata": {},
   "outputs": [
    {
     "name": "stdout",
     "output_type": "stream",
     "text": [
      "[2, 4, 6, 8, 10, 12, 14, 16, 18, 20, 22, 22, 22]\n"
     ]
    }
   ],
   "source": [
    "togangen.append(22)\n",
    "print(togangen)"
   ]
  },
  {
   "cell_type": "markdown",
   "metadata": {},
   "source": [
    "Noen ganger ønsker vi å starte med en tom liste, og heller legge til elementer etter hvert.\n",
    "Dette kan for eksempel være nyttig dersom elementene kommer fra brukerinput, men vil også bli\n",
    "nyttig senere når vi skal gjøre beregninger."
   ]
  },
  {
   "cell_type": "code",
   "execution_count": 6,
   "metadata": {},
   "outputs": [
    {
     "name": "stdout",
     "output_type": "stream",
     "text": [
      "<class 'list'>\n",
      "['hvetemel']\n",
      "['hvetemel', 'gjær']\n",
      "['hvetemel', 'gjær', 'melk']\n"
     ]
    }
   ],
   "source": [
    "handleliste = [] #Oppretter en tom liste\n",
    "print(list)\n",
    "handleliste.append('hvetemel')     # legger strengen 'gjær' inn i listen\n",
    "print(handleliste)\n",
    "\n",
    "handleliste.append('gjær')\n",
    "print(handleliste)\n",
    "\n",
    "handleliste.append('melk')\n",
    "print(handleliste)"
   ]
  },
  {
   "cell_type": "markdown",
   "metadata": {},
   "source": [
    "Vi kan også sortere en liste:"
   ]
  },
  {
   "cell_type": "code",
   "execution_count": 7,
   "metadata": {},
   "outputs": [
    {
     "name": "stdout",
     "output_type": "stream",
     "text": [
      "['gjær', 'hvetemel', 'melk']\n"
     ]
    }
   ],
   "source": [
    "handleliste.sort()\n",
    "print(handleliste)"
   ]
  },
  {
   "cell_type": "markdown",
   "metadata": {},
   "source": [
    "Videre kan vi fjerne elementer fra en liste:"
   ]
  },
  {
   "cell_type": "code",
   "execution_count": 8,
   "metadata": {},
   "outputs": [
    {
     "name": "stdout",
     "output_type": "stream",
     "text": [
      "['gjær', 'melk']\n"
     ]
    }
   ],
   "source": [
    "handleliste.remove('hvetemel')\n",
    "print(handleliste)"
   ]
  },
  {
   "cell_type": "markdown",
   "metadata": {},
   "source": [
    "## Traversering av lister i Python"
   ]
  },
  {
   "cell_type": "markdown",
   "metadata": {},
   "source": [
    "## Løkker\n",
    "Det hender ofte at vi gjør nesten den samme beregningen om igjen flere ganger. \n",
    "Hvis vi klarer å gjøre dette tilstrekkelig generelt slik at kommandoen blir den samme hver gang\n",
    "kan vi bruke såkalte *løkker*.\n",
    "\n",
    "Anta nå at vi ønsker tallene i Fibonacci-følgen i en liste:\n",
    "$$ 1,\\; 1,\\; 2,\\; 3,\\; 5,\\; 8,\\; 13,\\; 21,\\; 34,\\; 55,\\; ... $$\n",
    "Som du sikkert husker, er hvert tall i følgen summen av de to foregående tallene.\n",
    "Dette kan vi uttrykke ved hjelp av differenslikningen\n",
    "$$\n",
    "\\begin{align*}\n",
    "\\\\\n",
    "f_n & = f_{n-1} + f_{n-2},\\; \\text{ der } \\;\\;n = 3, 4, 5,... \\\\ \\\\\n",
    "\\end{align*}\n",
    "$$\n",
    "og initialbetingelsene\n",
    "$$\n",
    "\\begin{align*}\n",
    "f_1 & = 1 \\\\\n",
    "f_2 & = 1 \\\\\n",
    "\\end{align*}\n",
    "$$\n",
    "Å skrive mange slike tall inn i en liste blir raskt kjedelig!\n",
    "Dersom du gjør slike kjedelige og repetitive ting, kan du være sikker på at det finnes en rask metode å gjøre dette på.\n",
    "Du skal nå lære å bruke løkker for å gjøre dette automatisk"
   ]
  },
  {
   "cell_type": "code",
   "execution_count": 1,
   "metadata": {},
   "outputs": [
    {
     "name": "stdout",
     "output_type": "stream",
     "text": [
      "[1, 1, 2, 3, 5, 8, 13, 21, 34, 55, 89, 144, 233, 377, 610, 987, 1597, 2584, 4181, 6765]\n"
     ]
    }
   ],
   "source": [
    "N = 20 # antall fibonacci-tall vi ønsker i følgen\n",
    "\n",
    "f = [1, 1] #lag en liste med de to første fibonacci-tallene\n",
    "\n",
    "# Husk at Python indekserer lister fra 0, og ikke 1 slik vi ofte gjør i matematikk og eksempelet over\n",
    "for n in range(2, N):\n",
    "    f_n = f[n-1] + f[n-2]\n",
    "    f.append(f_n)\n",
    "\n",
    "print(f)"
   ]
  },
  {
   "cell_type": "markdown",
   "metadata": {},
   "source": [
    "#### Oppgave\n",
    "a) Det er et kjent resultat i matematikken at forholdet $f_n\\;/\\;f_{n-1}$ mellom et fibonaccitall og det foregående fibonacci-tallet nærmer seg det gyldne snitt når vi beveger oss lengre og lengre ut i følgen.\n",
    "Øk antall iterasjoner $N$ til $N=100$, og finn det gyldne snitt med en nøyaktighet på femten desimaler.\n",
    "\n",
    "b) Kåre Kurious lurer på hva fibonaccitall nummer én million er. Han kan ikke lagre én billion tall i en liste, for datamskinen hans har ikke nok minne. Hjelp Kåre Kurious å regne ut fibonaccitall nummer 1 000 000.\n",
    "\n",
    "c) Kåre Kurious lurer på hva fibonaccitall nummer tusen billioner er. Kåre Kurious har ikke tolmodighet til å vente på at løkkene i python skal bli ferdig med dette. \n",
    "* Skriv tusen billioner som en tierpotens.\n",
    "* Bruk resultatet i oppgave a) til å gi Kåre et matematisk uttrykk for et estimat på fibonaccitall nummer tusen billioner."
   ]
  },
  {
   "cell_type": "code",
   "execution_count": null,
   "metadata": {},
   "outputs": [],
   "source": []
  }
 ],
 "metadata": {
  "kernelspec": {
   "display_name": "Python 3",
   "language": "python",
   "name": "python3"
  },
  "language_info": {
   "codemirror_mode": {
    "name": "ipython",
    "version": 3
   },
   "file_extension": ".py",
   "mimetype": "text/x-python",
   "name": "python",
   "nbconvert_exporter": "python",
   "pygments_lexer": "ipython3",
   "version": "3.6.5"
  }
 },
 "nbformat": 4,
 "nbformat_minor": 2
}

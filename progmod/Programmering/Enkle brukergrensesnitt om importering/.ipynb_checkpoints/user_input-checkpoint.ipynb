{
 "cells": [
  {
   "cell_type": "markdown",
   "metadata": {
    "collapsed": true
   },
   "source": [
    "# Brukerinput og flow control\n",
    "\n",
    "## Læringsmål:\n",
    "* Kunne ta enkel input fra bruker, og lagre dette i en variabel\n",
    "* Kunne bruke if/else tester til å bestemme hva et program skal gjøre,\n",
    "  avhengig av brukerinput.\n",
    "\n",
    "\n",
    "### Motivasjon og plan\n",
    "Til nå har du skrevet programmer der du må inn i koden for å\n",
    "endre på verdiene variablene blir tilordnet. Dersom programmet\n",
    "skal brukes av andre programmer, eller hvis en bruker som ikke kjenner\n",
    "detaljene skal bruke programmet, er ikke dette en god\n",
    "programmeringspraksis.\n",
    "\n",
    "Vi skal i dette avsnittet se på hvordan programmet kan be\n",
    "brukeren om dataene programmet trenger. Vi skal videre se\n",
    "på hvordan vi kan be programmet gjøre ulike ting etter hvilke\n",
    "verdier de ulike variablene får.\n",
    "\n",
    "Vi begynner med et eksempel på hvordan vi kan be brukeren om input\n",
    "\n",
    "### Eksempel"
   ]
  },
  {
   "cell_type": "code",
   "execution_count": 3,
   "metadata": {},
   "outputs": [
    {
     "name": "stdout",
     "output_type": "stream",
     "text": [
      "What is your name?\n",
      "Eindride\n",
      "Hello, Eindride!\n"
     ]
    }
   ],
   "source": [
    "user_name = input(\"What is your name?\\n\")\n",
    "\n",
    "print(\"Hello, \" + user_name + \"!\")"
   ]
  },
  {
   "cell_type": "markdown",
   "metadata": {},
   "source": [
    "##### Forklaring av kode\n",
    "Programmet ber brukeren om å skrive navnet sitt. Navnet lagres som en streng (tekst) i variabelen med navnet\n",
    "`user_input`.\n",
    "Brukeren blir presentert med strengen `\"What is your name?\\n`. Det siste tegnet `\\n` er et spesialtegn som lager\n",
    "en ny linje.\n",
    "\n",
    "Når brukeren har skrevet inn navnet sitt, skriver programmet ut en hilsen.\n",
    "Strengene `\"Hello, `, `user_name` og `\"!\"` blir kombinert til en setning.\n",
    "Legg merke til hvordan vi kan legge sammen strenger i Python for å kombinere ulike\n",
    "tekster til setninger."
   ]
  },
  {
   "cell_type": "markdown",
   "metadata": {},
   "source": [
    "#### Oppgave 1\n",
    "Fjern tegnet `\\n` i strengen som skrives ut i beskjeden til brukeren.\n",
    "Hva skjer da?"
   ]
  },
  {
   "cell_type": "code",
   "execution_count": null,
   "metadata": {
    "collapsed": true
   },
   "outputs": [],
   "source": []
  },
  {
   "cell_type": "markdown",
   "metadata": {},
   "source": [
    "## Behandling av input\n",
    "Python behandler all input som strenger. Dersom vi skal bruke input som tall\n",
    "for å gjøre beregninger, må vi be Python om å gjøre strengen om til et tall.\n",
    "\n",
    "Til dette kan vi bruke den magiske funksjonen `eval`. Denne funksjonen\n",
    "kan i de aller fleste tilfeller tolke hva slags data som blir gitt,\n",
    "og gjøre den om til rett type data."
   ]
  },
  {
   "cell_type": "code",
   "execution_count": 2,
   "metadata": {},
   "outputs": [
    {
     "name": "stdout",
     "output_type": "stream",
     "text": [
      "Gi meg et tall \n",
      "1\n",
      "Gi meg et annet tall \n",
      "2\n",
      "summen av tallene er:  3\n"
     ]
    }
   ],
   "source": [
    "# addisjonsmaskin\n",
    "a = input(\"Gi meg et tall \\n\")       # variabelen a er en streng\n",
    "a = eval(a)                          # variabelen a blir gjort om til et heltall (int)\n",
    "\n",
    "b = input(\"Gi meg et annet tall \\n\")\n",
    "b = eval(b)\n",
    "\n",
    "# legger sammen tallene a og b og skriver ut svaret med en forklaring\n",
    "s = a + b                             \n",
    "print(\"summen av tallene er: \", s)"
   ]
  },
  {
   "cell_type": "markdown",
   "metadata": {},
   "source": [
    "#### Oppgave 2\n",
    "Du har kanskje lært at sammenhengen mellom strekning $s$ og tid $t$, ved konstant hastighet $v$ er\n",
    "gitt ved \n",
    "$$ s = vt $$\n",
    "Anta at $t = 5,78$. Modifiser programmet under slik at hastigheten `v` leses inn fra brukeren."
   ]
  },
  {
   "cell_type": "code",
   "execution_count": 4,
   "metadata": {},
   "outputs": [
    {
     "name": "stdout",
     "output_type": "stream",
     "text": [
      "8.67\n"
     ]
    }
   ],
   "source": [
    "v = 1.5\n",
    "\n",
    "t = 5.78\n",
    "\n",
    "s = v*t\n",
    "\n",
    "print(s)"
   ]
  },
  {
   "cell_type": "markdown",
   "metadata": {},
   "source": [
    "### If og else - tester\n",
    "Noen ganger ønsker vi at programmet skal gjøre ulike ting, avhengig av hvilke\n",
    "data brukeren gir programmet.\n",
    "Vi starter med et svært enkelt eksempel:"
   ]
  },
  {
   "cell_type": "code",
   "execution_count": 4,
   "metadata": {},
   "outputs": [
    {
     "name": "stdout",
     "output_type": "stream",
     "text": [
      "how fast are you going? \n",
      "19\n",
      "You are slower than the speed limit\n",
      "\n",
      "The speed limit is:  20\n"
     ]
    }
   ],
   "source": [
    "speed_limit = 20\n",
    "speed = input(\"how fast are you going? \\n\")\n",
    "speed = eval(speed)\n",
    "\n",
    "if speed > speed_limit:\n",
    "    print(\"You are going too fast!\")\n",
    "else:\n",
    "    print(\"You are slower than the speed limit\\n\")\n",
    "    print(\"The speed limit is: \", speed_limit)"
   ]
  },
  {
   "cell_type": "markdown",
   "metadata": {},
   "source": [
    "#### Forklaring av kode\n",
    "1) Først blir en variabel `speed_limit` satt til verdien 20.\n",
    "2) Deretter leses et tall inn fra brukeren som en streng (tekst). Variabelen `speed` blir satt til denne verdien.\n",
    "3) Deretter gjøres strengen om til et tall (`int` eller `float` ved hjelp av funksjonen `eval`).\n",
    "\n",
    "4) Programmet gjør en logisk test: er verdien til speed større enn verdien til speed_limit?.\n",
    "   * dersom brukeren gir input større enn 20, hopper testen til else-delen.\n",
    "   * dersom brukeren gir input mindre eller lik 20, går testen igjennom.\n"
   ]
  },
  {
   "cell_type": "code",
   "execution_count": null,
   "metadata": {
    "collapsed": true
   },
   "outputs": [],
   "source": []
  }
 ],
 "metadata": {
  "kernelspec": {
   "display_name": "Python 3",
   "language": "python",
   "name": "python3"
  },
  "language_info": {
   "codemirror_mode": {
    "name": "ipython",
    "version": 3
   },
   "file_extension": ".py",
   "mimetype": "text/x-python",
   "name": "python",
   "nbconvert_exporter": "python",
   "pygments_lexer": "ipython3",
   "version": "3.6.5"
  }
 },
 "nbformat": 4,
 "nbformat_minor": 2
}
